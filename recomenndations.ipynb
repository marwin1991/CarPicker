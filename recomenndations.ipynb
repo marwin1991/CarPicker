{
 "cells": [
  {
   "cell_type": "code",
   "execution_count": 1,
   "metadata": {},
   "outputs": [],
   "source": [
    "import pandas as pd\n",
    "import numpy as np\n",
    "import sqlite3"
   ]
  },
  {
   "cell_type": "code",
   "execution_count": 2,
   "metadata": {},
   "outputs": [
    {
     "name": "stdout",
     "output_type": "stream",
     "text": [
      "                      dt  engine  car_body  costs  car_details  equipment  \\\n",
      "0    2020-05-28 15:54:01    31.0      57.0   20.0         37.0       75.0   \n",
      "1    2020-05-28 15:54:01    31.0      57.0   20.0         37.0       75.0   \n",
      "2    2020-05-28 15:54:01    31.0      57.0   20.0         37.0       75.0   \n",
      "3    2020-05-28 15:54:01    31.0      57.0   20.0         37.0       75.0   \n",
      "4    2020-05-28 15:54:01    31.0      57.0   20.0         37.0       75.0   \n",
      "..                   ...     ...       ...    ...          ...        ...   \n",
      "600  2020-05-28 15:57:23    29.0      51.0   54.0         47.0       41.0   \n",
      "601  2020-05-28 15:57:24    37.0      31.0   14.0         52.0       32.0   \n",
      "602  2020-05-28 15:57:24    37.0      31.0   14.0         52.0       32.0   \n",
      "603  2020-05-28 15:57:24    37.0      31.0   14.0         52.0       32.0   \n",
      "604  2020-05-28 15:57:24    37.0      31.0   14.0         52.0       32.0   \n",
      "\n",
      "     driving_features             car  grade  \n",
      "0                -1.0      Opel Corsa    5.0  \n",
      "1                -1.0      VW Touareg    5.0  \n",
      "2                -1.0        Fiat 500    2.0  \n",
      "3                -1.0     Skoda Scala    1.0  \n",
      "4                -1.0  Opel Grossland    1.0  \n",
      "..                ...             ...    ...  \n",
      "600              61.0        VW T-ROC    1.0  \n",
      "601              20.0        Fiat 500    5.0  \n",
      "602              20.0      VW Touareg    5.0  \n",
      "603              20.0  Opel Grossland    2.0  \n",
      "604              20.0     Skoda Scala    1.0  \n",
      "\n",
      "[605 rows x 9 columns]\n"
     ]
    }
   ],
   "source": [
    "conn = sqlite3.connect('car_rates.db')\n",
    "sql = 'SELECT dt, engine, car_body, costs, car_details, equipment, driving_features, car, grade  FROM car_rates'\n",
    "data = pd.read_sql(sql, conn)\n",
    "\n",
    "conn.close()\n",
    "\n",
    "print(data)"
   ]
  },
  {
   "cell_type": "code",
   "execution_count": 3,
   "metadata": {},
   "outputs": [
    {
     "data": {
      "text/plain": [
       "count    605.000000\n",
       "mean       3.024793\n",
       "std        1.822699\n",
       "min        1.000000\n",
       "25%        1.000000\n",
       "50%        3.000000\n",
       "75%        5.000000\n",
       "max        5.000000\n",
       "Name: grade, dtype: float64"
      ]
     },
     "execution_count": 3,
     "metadata": {},
     "output_type": "execute_result"
    }
   ],
   "source": [
    "data.grade.describe()"
   ]
  },
  {
   "cell_type": "code",
   "execution_count": 4,
   "metadata": {},
   "outputs": [
    {
     "data": {
      "text/plain": [
       "<matplotlib.axes._subplots.AxesSubplot at 0x14adf049b48>"
      ]
     },
     "execution_count": 4,
     "metadata": {},
     "output_type": "execute_result"
    }
   ],
   "source": [
    "data.grade.hist(bins=10)"
   ]
  },
  {
   "cell_type": "code",
   "execution_count": 5,
   "metadata": {},
   "outputs": [
    {
     "data": {
      "text/plain": [
       "count     11.000000\n",
       "mean      55.000000\n",
       "std       51.774511\n",
       "min        3.000000\n",
       "25%       10.500000\n",
       "50%       37.000000\n",
       "75%       84.500000\n",
       "max      148.000000\n",
       "Name: grade, dtype: float64"
      ]
     },
     "execution_count": 5,
     "metadata": {},
     "output_type": "execute_result"
    }
   ],
   "source": [
    "data.groupby('car').count()['grade'].describe()"
   ]
  },
  {
   "cell_type": "code",
   "execution_count": 6,
   "metadata": {},
   "outputs": [
    {
     "data": {
      "text/plain": [
       "0      2020-05-28 15:54:01\n",
       "1      2020-05-28 15:54:01\n",
       "2      2020-05-28 15:54:01\n",
       "3      2020-05-28 15:54:01\n",
       "4      2020-05-28 15:54:01\n",
       "              ...         \n",
       "600    2020-05-28 15:57:23\n",
       "601    2020-05-28 15:57:24\n",
       "602    2020-05-28 15:57:24\n",
       "603    2020-05-28 15:57:24\n",
       "604    2020-05-28 15:57:24\n",
       "Name: dt, Length: 605, dtype: object"
      ]
     },
     "execution_count": 6,
     "metadata": {},
     "output_type": "execute_result"
    }
   ],
   "source": [
    "data['dt']"
   ]
  },
  {
   "cell_type": "code",
   "execution_count": 7,
   "metadata": {},
   "outputs": [],
   "source": [
    "from sklearn.metrics.pairwise import cosine_similarity\n",
    "\n",
    "def prepare_user_column(dt):\n",
    "    dt_to_user = {}\n",
    "\n",
    "    c = 1\n",
    "    for d in dt.drop_duplicates():\n",
    "        dt_to_user[d] = c\n",
    "        c += 1\n",
    "\n",
    "    user_column = []\n",
    "\n",
    "    for e in dt:\n",
    "        user_column.append(dt_to_user[e])\n",
    "\n",
    "    return user_column\n",
    "\n",
    "def get_similar_cars(car, similarity_df, n_neighbors=8):\n",
    "    similar_ids = similarity_df.loc[car].sort_values(ascending=False)[1:n_neighbors+1].reset_index()\n",
    "    return similar_ids\n",
    "\n",
    "def prepare_matrix(data, column_name):\n",
    "    return data.pivot_table(index='car', columns='userId', values=column_name, fill_value=0)\n",
    "\n",
    "def get_cosine_similarity(matrix):\n",
    "    cosine_similarity_cf_mx = cosine_similarity(matrix)\n",
    "    return pd.DataFrame(cosine_similarity_cf_mx, columns=matrix.index, index=matrix.index)\n",
    "\n",
    "def process(data, car_name):\n",
    "    user_column = prepare_user_column(data['dt'])\n",
    "    data_s = data.assign(userId=pd.Series(user_column).values)\n",
    "    column_names = ['engine', 'car_body', 'costs', 'car_details', 'equipment', 'driving_features', 'grade']\n",
    "    results = {}\n",
    "    \n",
    "    for c in column_names:\n",
    "        mx = prepare_matrix(data_s, c)\n",
    "        sim_mx = get_cosine_similarity(mx)\n",
    "        sim_cars = get_similar_cars(car_name, sim_mx)\n",
    "        results[c] = sim_cars\n",
    "\n",
    "    return results"
   ]
  },
  {
   "cell_type": "code",
   "execution_count": 8,
   "metadata": {},
   "outputs": [
    {
     "data": {
      "text/plain": [
       "'Opel Grossland'"
      ]
     },
     "execution_count": 8,
     "metadata": {},
     "output_type": "execute_result"
    }
   ],
   "source": [
    "user_column = prepare_user_column(data['dt'])\n",
    "data = data.assign(userId=pd.Series(user_column).values)\n",
    "sample_car = data['car'].sample().to_list()[0]\n",
    "sample_car"
   ]
  },
  {
   "cell_type": "code",
   "execution_count": 18,
   "metadata": {},
   "outputs": [
    {
     "data": {
      "text/plain": [
       "{'Fiat 500': ['Opel Astra'],\n",
       " 'VW Touareg': ['Opel Astra'],\n",
       " 'Skoda Scala': ['Opel Astra'],\n",
       " 'VW T-ROC': ['Opel Astra', 'VW Polo'],\n",
       " 'Opel Grossland': ['Opel Corsa', 'Fiat 500X', 'Opel Astra']}"
      ]
     },
     "execution_count": 18,
     "metadata": {},
     "output_type": "execute_result"
    }
   ],
   "source": [
    "def get_best_match(data, car):\n",
    "    processing_result = process(data, car)\n",
    "\n",
    "    best_cars = {}\n",
    "    for _, v in processing_result.items():\n",
    "        cars = v['car'].to_list()\n",
    "        values = v[car].to_list()\n",
    "        for index, car_name in enumerate(cars):\n",
    "            tmp = 0\n",
    "            if car_name in best_cars:\n",
    "                tmp = best_cars[car_name]\n",
    "            tmp += values[index]\n",
    "            best_cars[car_name] = tmp\n",
    "    \n",
    "    result = sorted(best_cars.items(), key=lambda item: item[1], reverse=True)[:5]\n",
    "    return result\n",
    "\n",
    "def get_recommendation(d, predicted_cars):\n",
    "    result = {}\n",
    "    car_names = predicted_cars.keys()\n",
    "    for c in car_names:\n",
    "\n",
    "        if c not in d['car'].drop_duplicates().tolist():\n",
    "            continue\n",
    "\n",
    "        distinct_cars = [a for (a, b) in get_best_match(d, c)]\n",
    "        \n",
    "        filtered_cars = []\n",
    "        for e in distinct_cars:\n",
    "            if e not in car_names:\n",
    "                filtered_cars.append(e)\n",
    "                \n",
    "        result[c] = filtered_cars\n",
    "\n",
    "    return result\n",
    "\n",
    "pc = {'Fiat 500': 24, 'VW Touareg': 24, 'Skoda Scala': 3, 'VW T-ROC': 1, 'Opel Grossland': 3}\n",
    "\n",
    "get_recommendation(data, pc)"
   ]
  },
  {
   "cell_type": "code",
   "execution_count": 23,
   "metadata": {},
   "outputs": [
    {
     "data": {
      "text/html": [
       "<div>\n",
       "<style scoped>\n",
       "    .dataframe tbody tr th:only-of-type {\n",
       "        vertical-align: middle;\n",
       "    }\n",
       "\n",
       "    .dataframe tbody tr th {\n",
       "        vertical-align: top;\n",
       "    }\n",
       "\n",
       "    .dataframe thead th {\n",
       "        text-align: right;\n",
       "    }\n",
       "</style>\n",
       "<table border=\"1\" class=\"dataframe\">\n",
       "  <thead>\n",
       "    <tr style=\"text-align: right;\">\n",
       "      <th></th>\n",
       "      <th>car</th>\n",
       "      <th>Fiat 500</th>\n",
       "    </tr>\n",
       "  </thead>\n",
       "  <tbody>\n",
       "    <tr>\n",
       "      <td>0</td>\n",
       "      <td>VW Touareg</td>\n",
       "      <td>0.878969</td>\n",
       "    </tr>\n",
       "    <tr>\n",
       "      <td>1</td>\n",
       "      <td>Opel Astra</td>\n",
       "      <td>0.572906</td>\n",
       "    </tr>\n",
       "    <tr>\n",
       "      <td>2</td>\n",
       "      <td>Opel Grossland</td>\n",
       "      <td>0.425364</td>\n",
       "    </tr>\n",
       "    <tr>\n",
       "      <td>3</td>\n",
       "      <td>Skoda Scala</td>\n",
       "      <td>0.405591</td>\n",
       "    </tr>\n",
       "    <tr>\n",
       "      <td>4</td>\n",
       "      <td>VW T-ROC</td>\n",
       "      <td>0.190370</td>\n",
       "    </tr>\n",
       "    <tr>\n",
       "      <td>5</td>\n",
       "      <td>Opel Corsa</td>\n",
       "      <td>0.151136</td>\n",
       "    </tr>\n",
       "    <tr>\n",
       "      <td>6</td>\n",
       "      <td>VW Polo</td>\n",
       "      <td>0.061872</td>\n",
       "    </tr>\n",
       "    <tr>\n",
       "      <td>7</td>\n",
       "      <td>Fiat Tipo</td>\n",
       "      <td>0.055334</td>\n",
       "    </tr>\n",
       "  </tbody>\n",
       "</table>\n",
       "</div>"
      ],
      "text/plain": [
       "              car  Fiat 500\n",
       "0      VW Touareg  0.878969\n",
       "1      Opel Astra  0.572906\n",
       "2  Opel Grossland  0.425364\n",
       "3     Skoda Scala  0.405591\n",
       "4        VW T-ROC  0.190370\n",
       "5      Opel Corsa  0.151136\n",
       "6         VW Polo  0.061872\n",
       "7       Fiat Tipo  0.055334"
      ]
     },
     "execution_count": 23,
     "metadata": {},
     "output_type": "execute_result"
    }
   ],
   "source": [
    "user_column = prepare_user_column(data['dt'])\n",
    "data_s = data.assign(userId=pd.Series(user_column).values)\n",
    "column_names = ['engine', 'car_body', 'costs', 'car_details', 'equipment', 'driving_features', 'grade']\n",
    "results = {}\n",
    "    \n",
    "mx = prepare_matrix(data_s, 'grade')\n",
    "sim_mx = get_cosine_similarity(mx)\n",
    "sim_cars = get_similar_cars('Fiat 500', sim_mx)\n",
    "mx\n",
    "sim_cars"
   ]
  },
  {
   "cell_type": "code",
   "execution_count": null,
   "metadata": {},
   "outputs": [],
   "source": [
    "def get_all_similar_predictions(car_elements_list):\n",
    "    historical_data = get_historical_data()\n",
    "    result = {}\n",
    "    for historical_row in historical_data:\n",
    "        strong_similarity = 0\n",
    "        small_similarity = 0\n",
    "        for index, element in enumerate(car_elements_list):\n",
    "            if are_strong_similar_values(element, historical_row[index]):\n",
    "                strong_similarity += 1\n",
    "            if are_small_similar_values(element, historical_row[index]):\n",
    "                small_similarity += 1\n",
    "        if strong_similarity > 3:\n",
    "            result.update({historical_row[-2], historical_row[-1]})\n",
    "        elif small_similarity > 5:\n",
    "            result.update({historical_row[-2], historical_row[-1]})\n",
    "    return result"
   ]
  }
 ],
 "metadata": {
  "kernelspec": {
   "display_name": "Python 3",
   "language": "python",
   "name": "python3"
  },
  "language_info": {
   "codemirror_mode": {
    "name": "ipython",
    "version": 3
   },
   "file_extension": ".py",
   "mimetype": "text/x-python",
   "name": "python",
   "nbconvert_exporter": "python",
   "pygments_lexer": "ipython3",
   "version": "3.7.4"
  }
 },
 "nbformat": 4,
 "nbformat_minor": 2
}
